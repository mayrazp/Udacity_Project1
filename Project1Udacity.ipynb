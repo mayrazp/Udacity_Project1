{
  "nbformat": 4,
  "nbformat_minor": 0,
  "metadata": {
    "colab": {
      "name": "Project1Udacity.ipynb",
      "provenance": [],
      "collapsed_sections": []
    },
    "kernelspec": {
      "name": "python3",
      "display_name": "Python 3"
    }
  },
  "cells": [
    {
      "cell_type": "markdown",
      "metadata": {
        "id": "5VaumdoVM1bL",
        "colab_type": "text"
      },
      "source": [
        "**Project 1**\n",
        "\n",
        "Dataset: Oakland Airbnb dataset\n",
        "\n",
        "**Motivation:**\n",
        "\n",
        "For this project, I was interested in exploring the Airbnb dataset from Oakland to better understand the following questions:\n",
        "\n",
        "1.   What we can say about customer’s feelings in the reviews posted after staying in an Airbnb Oakland house/apartment?\n",
        "2.   What is the sentiment analysis of customer review grouped by neighborhood?\n",
        "3.   Which topics were most commented on in the customer review? Listed the words for each *topic*\n",
        "\n",
        "**Blog Link:**\n",
        "\n",
        "https://medium.com/@mayrazrodriguez/sentiment-analysis-and-topic-modeling-using-airbnb-dataset-c65848b98a57?source=friends_link&sk=3f85f6c3093b8a3981fd2197da189d37\n",
        "\n",
        "\n",
        "\n"
      ]
    },
    {
      "cell_type": "markdown",
      "metadata": {
        "id": "lxQQVsoKNMKH",
        "colab_type": "text"
      },
      "source": [
        "we import the packages that we will use throughout the project."
      ]
    },
    {
      "cell_type": "code",
      "metadata": {
        "id": "i5LsJcWFky2s",
        "colab_type": "code",
        "colab": {
          "base_uri": "https://localhost:8080/",
          "height": 217
        },
        "outputId": "f4900ec7-d624-42ba-ec9b-44f8e42a3173"
      },
      "source": [
        "import pandas as pd\n",
        "import io\n",
        "from nltk.corpus import stopwords\n",
        "from nltk import word_tokenize\n",
        "from nltk.stem.wordnet import WordNetLemmatizer\n",
        "import re\n",
        "from nltk.stem import PorterStemmer\n",
        "from textblob import TextBlob\n",
        "import numpy as np\n",
        "import matplotlib.pyplot as plt\n",
        "import seaborn as sns\n",
        "from wordcloud import WordCloud, STOPWORDS\n",
        "import nltk\n",
        "nltk.download('stopwords')\n",
        "nltk.download('wordnet')\n",
        "nltk.download('punkt')\n",
        "nltk.download('averaged_perceptron_tagger')"
      ],
      "execution_count": 82,
      "outputs": [
        {
          "output_type": "stream",
          "text": [
            "[nltk_data] Downloading package stopwords to /root/nltk_data...\n",
            "[nltk_data]   Package stopwords is already up-to-date!\n",
            "[nltk_data] Downloading package wordnet to /root/nltk_data...\n",
            "[nltk_data]   Package wordnet is already up-to-date!\n",
            "[nltk_data] Downloading package punkt to /root/nltk_data...\n",
            "[nltk_data]   Package punkt is already up-to-date!\n",
            "[nltk_data] Downloading package averaged_perceptron_tagger to\n",
            "[nltk_data]     /root/nltk_data...\n",
            "[nltk_data]   Package averaged_perceptron_tagger is already up-to-\n",
            "[nltk_data]       date!\n"
          ],
          "name": "stdout"
        },
        {
          "output_type": "execute_result",
          "data": {
            "text/plain": [
              "True"
            ]
          },
          "metadata": {
            "tags": []
          },
          "execution_count": 82
        }
      ]
    },
    {
      "cell_type": "markdown",
      "metadata": {
        "id": "O3mSw6lIzEEw",
        "colab_type": "text"
      },
      "source": [
        "Load the dataset from google colab"
      ]
    },
    {
      "cell_type": "code",
      "metadata": {
        "id": "WsUvoddck1Zb",
        "colab_type": "code",
        "colab": {
          "resources": {
            "http://localhost:8080/nbextensions/google.colab/files.js": {
              "data": "Ly8gQ29weXJpZ2h0IDIwMTcgR29vZ2xlIExMQwovLwovLyBMaWNlbnNlZCB1bmRlciB0aGUgQXBhY2hlIExpY2Vuc2UsIFZlcnNpb24gMi4wICh0aGUgIkxpY2Vuc2UiKTsKLy8geW91IG1heSBub3QgdXNlIHRoaXMgZmlsZSBleGNlcHQgaW4gY29tcGxpYW5jZSB3aXRoIHRoZSBMaWNlbnNlLgovLyBZb3UgbWF5IG9idGFpbiBhIGNvcHkgb2YgdGhlIExpY2Vuc2UgYXQKLy8KLy8gICAgICBodHRwOi8vd3d3LmFwYWNoZS5vcmcvbGljZW5zZXMvTElDRU5TRS0yLjAKLy8KLy8gVW5sZXNzIHJlcXVpcmVkIGJ5IGFwcGxpY2FibGUgbGF3IG9yIGFncmVlZCB0byBpbiB3cml0aW5nLCBzb2Z0d2FyZQovLyBkaXN0cmlidXRlZCB1bmRlciB0aGUgTGljZW5zZSBpcyBkaXN0cmlidXRlZCBvbiBhbiAiQVMgSVMiIEJBU0lTLAovLyBXSVRIT1VUIFdBUlJBTlRJRVMgT1IgQ09ORElUSU9OUyBPRiBBTlkgS0lORCwgZWl0aGVyIGV4cHJlc3Mgb3IgaW1wbGllZC4KLy8gU2VlIHRoZSBMaWNlbnNlIGZvciB0aGUgc3BlY2lmaWMgbGFuZ3VhZ2UgZ292ZXJuaW5nIHBlcm1pc3Npb25zIGFuZAovLyBsaW1pdGF0aW9ucyB1bmRlciB0aGUgTGljZW5zZS4KCi8qKgogKiBAZmlsZW92ZXJ2aWV3IEhlbHBlcnMgZm9yIGdvb2dsZS5jb2xhYiBQeXRob24gbW9kdWxlLgogKi8KKGZ1bmN0aW9uKHNjb3BlKSB7CmZ1bmN0aW9uIHNwYW4odGV4dCwgc3R5bGVBdHRyaWJ1dGVzID0ge30pIHsKICBjb25zdCBlbGVtZW50ID0gZG9jdW1lbnQuY3JlYXRlRWxlbWVudCgnc3BhbicpOwogIGVsZW1lbnQudGV4dENvbnRlbnQgPSB0ZXh0OwogIGZvciAoY29uc3Qga2V5IG9mIE9iamVjdC5rZXlzKHN0eWxlQXR0cmlidXRlcykpIHsKICAgIGVsZW1lbnQuc3R5bGVba2V5XSA9IHN0eWxlQXR0cmlidXRlc1trZXldOwogIH0KICByZXR1cm4gZWxlbWVudDsKfQoKLy8gTWF4IG51bWJlciBvZiBieXRlcyB3aGljaCB3aWxsIGJlIHVwbG9hZGVkIGF0IGEgdGltZS4KY29uc3QgTUFYX1BBWUxPQURfU0laRSA9IDEwMCAqIDEwMjQ7Ci8vIE1heCBhbW91bnQgb2YgdGltZSB0byBibG9jayB3YWl0aW5nIGZvciB0aGUgdXNlci4KY29uc3QgRklMRV9DSEFOR0VfVElNRU9VVF9NUyA9IDMwICogMTAwMDsKCmZ1bmN0aW9uIF91cGxvYWRGaWxlcyhpbnB1dElkLCBvdXRwdXRJZCkgewogIGNvbnN0IHN0ZXBzID0gdXBsb2FkRmlsZXNTdGVwKGlucHV0SWQsIG91dHB1dElkKTsKICBjb25zdCBvdXRwdXRFbGVtZW50ID0gZG9jdW1lbnQuZ2V0RWxlbWVudEJ5SWQob3V0cHV0SWQpOwogIC8vIENhY2hlIHN0ZXBzIG9uIHRoZSBvdXRwdXRFbGVtZW50IHRvIG1ha2UgaXQgYXZhaWxhYmxlIGZvciB0aGUgbmV4dCBjYWxsCiAgLy8gdG8gdXBsb2FkRmlsZXNDb250aW51ZSBmcm9tIFB5dGhvbi4KICBvdXRwdXRFbGVtZW50LnN0ZXBzID0gc3RlcHM7CgogIHJldHVybiBfdXBsb2FkRmlsZXNDb250aW51ZShvdXRwdXRJZCk7Cn0KCi8vIFRoaXMgaXMgcm91Z2hseSBhbiBhc3luYyBnZW5lcmF0b3IgKG5vdCBzdXBwb3J0ZWQgaW4gdGhlIGJyb3dzZXIgeWV0KSwKLy8gd2hlcmUgdGhlcmUgYXJlIG11bHRpcGxlIGFzeW5jaHJvbm91cyBzdGVwcyBhbmQgdGhlIFB5dGhvbiBzaWRlIGlzIGdvaW5nCi8vIHRvIHBvbGwgZm9yIGNvbXBsZXRpb24gb2YgZWFjaCBzdGVwLgovLyBUaGlzIHVzZXMgYSBQcm9taXNlIHRvIGJsb2NrIHRoZSBweXRob24gc2lkZSBvbiBjb21wbGV0aW9uIG9mIGVhY2ggc3RlcCwKLy8gdGhlbiBwYXNzZXMgdGhlIHJlc3VsdCBvZiB0aGUgcHJldmlvdXMgc3RlcCBhcyB0aGUgaW5wdXQgdG8gdGhlIG5leHQgc3RlcC4KZnVuY3Rpb24gX3VwbG9hZEZpbGVzQ29udGludWUob3V0cHV0SWQpIHsKICBjb25zdCBvdXRwdXRFbGVtZW50ID0gZG9jdW1lbnQuZ2V0RWxlbWVudEJ5SWQob3V0cHV0SWQpOwogIGNvbnN0IHN0ZXBzID0gb3V0cHV0RWxlbWVudC5zdGVwczsKCiAgY29uc3QgbmV4dCA9IHN0ZXBzLm5leHQob3V0cHV0RWxlbWVudC5sYXN0UHJvbWlzZVZhbHVlKTsKICByZXR1cm4gUHJvbWlzZS5yZXNvbHZlKG5leHQudmFsdWUucHJvbWlzZSkudGhlbigodmFsdWUpID0+IHsKICAgIC8vIENhY2hlIHRoZSBsYXN0IHByb21pc2UgdmFsdWUgdG8gbWFrZSBpdCBhdmFpbGFibGUgdG8gdGhlIG5leHQKICAgIC8vIHN0ZXAgb2YgdGhlIGdlbmVyYXRvci4KICAgIG91dHB1dEVsZW1lbnQubGFzdFByb21pc2VWYWx1ZSA9IHZhbHVlOwogICAgcmV0dXJuIG5leHQudmFsdWUucmVzcG9uc2U7CiAgfSk7Cn0KCi8qKgogKiBHZW5lcmF0b3IgZnVuY3Rpb24gd2hpY2ggaXMgY2FsbGVkIGJldHdlZW4gZWFjaCBhc3luYyBzdGVwIG9mIHRoZSB1cGxvYWQKICogcHJvY2Vzcy4KICogQHBhcmFtIHtzdHJpbmd9IGlucHV0SWQgRWxlbWVudCBJRCBvZiB0aGUgaW5wdXQgZmlsZSBwaWNrZXIgZWxlbWVudC4KICogQHBhcmFtIHtzdHJpbmd9IG91dHB1dElkIEVsZW1lbnQgSUQgb2YgdGhlIG91dHB1dCBkaXNwbGF5LgogKiBAcmV0dXJuIHshSXRlcmFibGU8IU9iamVjdD59IEl0ZXJhYmxlIG9mIG5leHQgc3RlcHMuCiAqLwpmdW5jdGlvbiogdXBsb2FkRmlsZXNTdGVwKGlucHV0SWQsIG91dHB1dElkKSB7CiAgY29uc3QgaW5wdXRFbGVtZW50ID0gZG9jdW1lbnQuZ2V0RWxlbWVudEJ5SWQoaW5wdXRJZCk7CiAgaW5wdXRFbGVtZW50LmRpc2FibGVkID0gZmFsc2U7CgogIGNvbnN0IG91dHB1dEVsZW1lbnQgPSBkb2N1bWVudC5nZXRFbGVtZW50QnlJZChvdXRwdXRJZCk7CiAgb3V0cHV0RWxlbWVudC5pbm5lckhUTUwgPSAnJzsKCiAgY29uc3QgcGlja2VkUHJvbWlzZSA9IG5ldyBQcm9taXNlKChyZXNvbHZlKSA9PiB7CiAgICBpbnB1dEVsZW1lbnQuYWRkRXZlbnRMaXN0ZW5lcignY2hhbmdlJywgKGUpID0+IHsKICAgICAgcmVzb2x2ZShlLnRhcmdldC5maWxlcyk7CiAgICB9KTsKICB9KTsKCiAgY29uc3QgY2FuY2VsID0gZG9jdW1lbnQuY3JlYXRlRWxlbWVudCgnYnV0dG9uJyk7CiAgaW5wdXRFbGVtZW50LnBhcmVudEVsZW1lbnQuYXBwZW5kQ2hpbGQoY2FuY2VsKTsKICBjYW5jZWwudGV4dENvbnRlbnQgPSAnQ2FuY2VsIHVwbG9hZCc7CiAgY29uc3QgY2FuY2VsUHJvbWlzZSA9IG5ldyBQcm9taXNlKChyZXNvbHZlKSA9PiB7CiAgICBjYW5jZWwub25jbGljayA9ICgpID0+IHsKICAgICAgcmVzb2x2ZShudWxsKTsKICAgIH07CiAgfSk7CgogIC8vIENhbmNlbCB1cGxvYWQgaWYgdXNlciBoYXNuJ3QgcGlja2VkIGFueXRoaW5nIGluIHRpbWVvdXQuCiAgY29uc3QgdGltZW91dFByb21pc2UgPSBuZXcgUHJvbWlzZSgocmVzb2x2ZSkgPT4gewogICAgc2V0VGltZW91dCgoKSA9PiB7CiAgICAgIHJlc29sdmUobnVsbCk7CiAgICB9LCBGSUxFX0NIQU5HRV9USU1FT1VUX01TKTsKICB9KTsKCiAgLy8gV2FpdCBmb3IgdGhlIHVzZXIgdG8gcGljayB0aGUgZmlsZXMuCiAgY29uc3QgZmlsZXMgPSB5aWVsZCB7CiAgICBwcm9taXNlOiBQcm9taXNlLnJhY2UoW3BpY2tlZFByb21pc2UsIHRpbWVvdXRQcm9taXNlLCBjYW5jZWxQcm9taXNlXSksCiAgICByZXNwb25zZTogewogICAgICBhY3Rpb246ICdzdGFydGluZycsCiAgICB9CiAgfTsKCiAgaWYgKCFmaWxlcykgewogICAgcmV0dXJuIHsKICAgICAgcmVzcG9uc2U6IHsKICAgICAgICBhY3Rpb246ICdjb21wbGV0ZScsCiAgICAgIH0KICAgIH07CiAgfQoKICBjYW5jZWwucmVtb3ZlKCk7CgogIC8vIERpc2FibGUgdGhlIGlucHV0IGVsZW1lbnQgc2luY2UgZnVydGhlciBwaWNrcyBhcmUgbm90IGFsbG93ZWQuCiAgaW5wdXRFbGVtZW50LmRpc2FibGVkID0gdHJ1ZTsKCiAgZm9yIChjb25zdCBmaWxlIG9mIGZpbGVzKSB7CiAgICBjb25zdCBsaSA9IGRvY3VtZW50LmNyZWF0ZUVsZW1lbnQoJ2xpJyk7CiAgICBsaS5hcHBlbmQoc3BhbihmaWxlLm5hbWUsIHtmb250V2VpZ2h0OiAnYm9sZCd9KSk7CiAgICBsaS5hcHBlbmQoc3BhbigKICAgICAgICBgKCR7ZmlsZS50eXBlIHx8ICduL2EnfSkgLSAke2ZpbGUuc2l6ZX0gYnl0ZXMsIGAgKwogICAgICAgIGBsYXN0IG1vZGlmaWVkOiAkewogICAgICAgICAgICBmaWxlLmxhc3RNb2RpZmllZERhdGUgPyBmaWxlLmxhc3RNb2RpZmllZERhdGUudG9Mb2NhbGVEYXRlU3RyaW5nKCkgOgogICAgICAgICAgICAgICAgICAgICAgICAgICAgICAgICAgICAnbi9hJ30gLSBgKSk7CiAgICBjb25zdCBwZXJjZW50ID0gc3BhbignMCUgZG9uZScpOwogICAgbGkuYXBwZW5kQ2hpbGQocGVyY2VudCk7CgogICAgb3V0cHV0RWxlbWVudC5hcHBlbmRDaGlsZChsaSk7CgogICAgY29uc3QgZmlsZURhdGFQcm9taXNlID0gbmV3IFByb21pc2UoKHJlc29sdmUpID0+IHsKICAgICAgY29uc3QgcmVhZGVyID0gbmV3IEZpbGVSZWFkZXIoKTsKICAgICAgcmVhZGVyLm9ubG9hZCA9IChlKSA9PiB7CiAgICAgICAgcmVzb2x2ZShlLnRhcmdldC5yZXN1bHQpOwogICAgICB9OwogICAgICByZWFkZXIucmVhZEFzQXJyYXlCdWZmZXIoZmlsZSk7CiAgICB9KTsKICAgIC8vIFdhaXQgZm9yIHRoZSBkYXRhIHRvIGJlIHJlYWR5LgogICAgbGV0IGZpbGVEYXRhID0geWllbGQgewogICAgICBwcm9taXNlOiBmaWxlRGF0YVByb21pc2UsCiAgICAgIHJlc3BvbnNlOiB7CiAgICAgICAgYWN0aW9uOiAnY29udGludWUnLAogICAgICB9CiAgICB9OwoKICAgIC8vIFVzZSBhIGNodW5rZWQgc2VuZGluZyB0byBhdm9pZCBtZXNzYWdlIHNpemUgbGltaXRzLiBTZWUgYi82MjExNTY2MC4KICAgIGxldCBwb3NpdGlvbiA9IDA7CiAgICB3aGlsZSAocG9zaXRpb24gPCBmaWxlRGF0YS5ieXRlTGVuZ3RoKSB7CiAgICAgIGNvbnN0IGxlbmd0aCA9IE1hdGgubWluKGZpbGVEYXRhLmJ5dGVMZW5ndGggLSBwb3NpdGlvbiwgTUFYX1BBWUxPQURfU0laRSk7CiAgICAgIGNvbnN0IGNodW5rID0gbmV3IFVpbnQ4QXJyYXkoZmlsZURhdGEsIHBvc2l0aW9uLCBsZW5ndGgpOwogICAgICBwb3NpdGlvbiArPSBsZW5ndGg7CgogICAgICBjb25zdCBiYXNlNjQgPSBidG9hKFN0cmluZy5mcm9tQ2hhckNvZGUuYXBwbHkobnVsbCwgY2h1bmspKTsKICAgICAgeWllbGQgewogICAgICAgIHJlc3BvbnNlOiB7CiAgICAgICAgICBhY3Rpb246ICdhcHBlbmQnLAogICAgICAgICAgZmlsZTogZmlsZS5uYW1lLAogICAgICAgICAgZGF0YTogYmFzZTY0LAogICAgICAgIH0sCiAgICAgIH07CiAgICAgIHBlcmNlbnQudGV4dENvbnRlbnQgPQogICAgICAgICAgYCR7TWF0aC5yb3VuZCgocG9zaXRpb24gLyBmaWxlRGF0YS5ieXRlTGVuZ3RoKSAqIDEwMCl9JSBkb25lYDsKICAgIH0KICB9CgogIC8vIEFsbCBkb25lLgogIHlpZWxkIHsKICAgIHJlc3BvbnNlOiB7CiAgICAgIGFjdGlvbjogJ2NvbXBsZXRlJywKICAgIH0KICB9Owp9CgpzY29wZS5nb29nbGUgPSBzY29wZS5nb29nbGUgfHwge307CnNjb3BlLmdvb2dsZS5jb2xhYiA9IHNjb3BlLmdvb2dsZS5jb2xhYiB8fCB7fTsKc2NvcGUuZ29vZ2xlLmNvbGFiLl9maWxlcyA9IHsKICBfdXBsb2FkRmlsZXMsCiAgX3VwbG9hZEZpbGVzQ29udGludWUsCn07Cn0pKHNlbGYpOwo=",
              "ok": true,
              "headers": [
                [
                  "content-type",
                  "application/javascript"
                ]
              ],
              "status": 200,
              "status_text": ""
            }
          },
          "base_uri": "https://localhost:8080/",
          "height": 110
        },
        "outputId": "e23a5cd2-116a-4463-86de-db8465971fe6"
      },
      "source": [
        "from google.colab import files\n",
        "uploaded = files.upload()"
      ],
      "execution_count": 6,
      "outputs": [
        {
          "output_type": "display_data",
          "data": {
            "text/html": [
              "\n",
              "     <input type=\"file\" id=\"files-6ba2bfd1-b392-465b-83da-0fe7c954ba55\" name=\"files[]\" multiple disabled />\n",
              "     <output id=\"result-6ba2bfd1-b392-465b-83da-0fe7c954ba55\">\n",
              "      Upload widget is only available when the cell has been executed in the\n",
              "      current browser session. Please rerun this cell to enable.\n",
              "      </output>\n",
              "      <script src=\"/nbextensions/google.colab/files.js\"></script> "
            ],
            "text/plain": [
              "<IPython.core.display.HTML object>"
            ]
          },
          "metadata": {
            "tags": []
          }
        },
        {
          "output_type": "stream",
          "text": [
            "Saving listings.csv to listings.csv\n",
            "Saving reviews.csv to reviews.csv\n"
          ],
          "name": "stdout"
        }
      ]
    },
    {
      "cell_type": "code",
      "metadata": {
        "id": "OnsInjHascVd",
        "colab_type": "code",
        "colab": {
          "base_uri": "https://localhost:8080/",
          "height": 54
        },
        "outputId": "a2434815-a43d-4ce5-f02a-df2df45591c7"
      },
      "source": [
        "reviews = pd.read_csv(io.BytesIO(uploaded['reviews.csv']))\n",
        "print(\"Number of rows in data =\",reviews.shape[0])\n",
        "print(\"Number of columns in data =\",reviews.shape[1])"
      ],
      "execution_count": 10,
      "outputs": [
        {
          "output_type": "stream",
          "text": [
            "Number of rows in data = 107468\n",
            "Number of columns in data = 6\n"
          ],
          "name": "stdout"
        }
      ]
    },
    {
      "cell_type": "code",
      "metadata": {
        "id": "dRDwqBmGubkx",
        "colab_type": "code",
        "colab": {
          "base_uri": "https://localhost:8080/",
          "height": 54
        },
        "outputId": "8d4496c8-99e9-4baa-a6bb-20530b2c70c4"
      },
      "source": [
        "listings = pd.read_csv(io.BytesIO(uploaded['listings.csv']))\n",
        "print(\"Number of rows in data =\",listings.shape[0])\n",
        "print(\"Number of columns in data =\",listings.shape[1])"
      ],
      "execution_count": 11,
      "outputs": [
        {
          "output_type": "stream",
          "text": [
            "Number of rows in data = 3211\n",
            "Number of columns in data = 106\n"
          ],
          "name": "stdout"
        }
      ]
    },
    {
      "cell_type": "markdown",
      "metadata": {
        "id": "HAzZNxllQbg1",
        "colab_type": "text"
      },
      "source": [
        "The class CleanUp contain the merge_csv method that will be used to extract the neighborhood attribute and join to listings dataset.\n",
        "The clean_dataset and patterns method was used to remove punctuations, NA values.\n",
        "The remove_stop_words method was used to remove stop words and additional words."
      ]
    },
    {
      "cell_type": "code",
      "metadata": {
        "id": "ps9MCH3Pu33x",
        "colab_type": "code",
        "colab": {}
      },
      "source": [
        "class CleanUp():\n",
        "    def __init__(self):\n",
        "        self.review = pd.read_csv(io.BytesIO(uploaded['reviews.csv']))\n",
        "        self.listings = pd.read_csv(io.BytesIO(uploaded['listings.csv']))\n",
        "\n",
        "    def build(self):\n",
        "        data = self.merge_csv()\n",
        "        clean_data = self.clean_dataset(data)\n",
        "        data_without_stop_word = self.remove_stopwords(clean_data)\n",
        "        data_without_stop_word['comments'] = data_without_stop_word['comments'].apply(self.lemmatize_text)\n",
        "        print('Finished cleaning process')\n",
        "        return clean_data, data_without_stop_word\n",
        "\n",
        "    def merge_csv(self):\n",
        "        listings_data = self.listings\n",
        "        tmp_listings_data = listings_data.loc[:, ['id', 'neighbourhood']]\n",
        "        reviews_data = self.review\n",
        "        merged_dataframe = pd.merge(left=reviews_data,right=tmp_listings_data, \\\n",
        "                                    how='left', left_on='listing_id', right_on='id')\n",
        "        return merged_dataframe\n",
        "\n",
        "    def patterns(self, text):\n",
        "        text = re.sub('[^a-zA-Z0-9_.+-]+', ' ', text)\n",
        "        text = text.strip(' ')\n",
        "        return text\n",
        "\n",
        "    def clean_dataset(self, data):\n",
        "        data.columns = map(str.lower, data.columns)\n",
        "        data.drop(columns=['id_y'], inplace=True)\n",
        "        # removing NA from column comments\n",
        "        data.dropna(subset=['comments'], axis=0, inplace=True)\n",
        "        # removing everything except alphabets`\n",
        "        #data['comments'] = data['comments'].map(lambda text : self.patterns(text))\n",
        "        data['comments'] = data['comments'].str.replace(\"[^A-Za-z0-9]\", \" \")\n",
        "        data['comments'] = data['comments'].str.replace('\\d+', '')\n",
        "        data['comments'] = data['comments'].str.replace('[^\\w\\s]', '')\n",
        "        data['comments'] = \\\n",
        "            data['comments'].str.split().map(lambda sl: \" \".join(s for s in sl if len(s) > 2))\n",
        "        # remove extra white spaces\n",
        "        data['comments'] = data['comments'].replace('\\s+', ' ', regex=True)\n",
        "\n",
        "        return data\n",
        "\n",
        "    def lemmatize_text(self, text):\n",
        "        lemma = WordNetLemmatizer()\n",
        "        return [lemma.lemmatize(w) for w in word_tokenize(text)]\n",
        "\n",
        "    def remove_stopwords(self, data):\n",
        "\n",
        "        stop_words = stopwords.words('english')\n",
        "        additional_stopwords = ['would','could', 'will', 'francisco','lauren','kevin', 'can', 'may', 'might', 'must',\n",
        "                                'and', 'i', 'a', 'and', 'so', 'arnt', 'this', 'when', 'did',  'there', 'street',\n",
        "                                'all', 'front', 'there', 'traci', 'jon', 'jasmine', 'kerry', 'jarrett', 'steve',\n",
        "                                'abiel', 'moreover','zoe','every']\n",
        "        stop_words.extend(additional_stopwords)\n",
        "\n",
        "        data['comments'] = \\\n",
        "            data['comments'].str.split().map(lambda sl: \" \".join(s for s in sl if len(s) > 4))\n",
        "\n",
        "        data['comments'] = data['comments'].replace('\\s+', ' ', regex=True)\n",
        "\n",
        "        data.dropna(subset=['comments'], axis=0, inplace=True)\n",
        "\n",
        "        data.loc[:, 'comments'] = data['comments'].apply(\n",
        "            lambda x: ' '.join([word for word in word_tokenize(x) if word not in stop_words]))\n",
        "\n",
        "        data['comments'] = data['comments'].str.strip()\n",
        "        return data"
      ],
      "execution_count": 0,
      "outputs": []
    },
    {
      "cell_type": "code",
      "metadata": {
        "id": "fhfxtmTivA97",
        "colab_type": "code",
        "colab": {
          "base_uri": "https://localhost:8080/",
          "height": 35
        },
        "outputId": "a2d66c61-b35c-4d9a-d097-034619984603"
      },
      "source": [
        "preprocess_obj = CleanUp()\n",
        "clean_data, data_without_stop_word = preprocess_obj.build()"
      ],
      "execution_count": 167,
      "outputs": [
        {
          "output_type": "stream",
          "text": [
            "Finished cleaning process\n"
          ],
          "name": "stdout"
        }
      ]
    },
    {
      "cell_type": "markdown",
      "metadata": {
        "id": "Wnil05S8TT2t",
        "colab_type": "text"
      },
      "source": [
        "The steam_word method in AnalysisData class aims to perform the steam process and the score_sentimental method calculates the polarity score of each word."
      ]
    },
    {
      "cell_type": "code",
      "metadata": {
        "id": "aGyCNgqw8CD6",
        "colab_type": "code",
        "colab": {}
      },
      "source": [
        "class AnalysisData():\n",
        "    def __init__(self):\n",
        "      pass\n",
        "    def score_sentimental(self, clean_data):\n",
        "        output_data = self.steam_word(clean_data)\n",
        "        polarity_score_list = [round(TextBlob(word).polarity,1) for word in output_data['comments']]\n",
        "        clean_data['polarity_score'] = polarity_score_list\n",
        "        clean_data['label_polarity'] = 'neutral'\n",
        "        clean_data.loc[clean_data[clean_data['polarity_score'] == 0].index, ['label_polarity']] = 'neutral'\n",
        "        clean_data.loc[clean_data[(clean_data['polarity_score'] > 0) & (clean_data['polarity_score'] < 0.6)].index,\n",
        "                 ['label_polarity']] = 'positive'\n",
        "        clean_data.loc[clean_data[(clean_data['polarity_score'] >= 0.6) & (clean_data['polarity_score'] <= 1.0)].index,\n",
        "                 ['label_polarity']] = 'highly positive'\n",
        "        clean_data.loc[clean_data[(clean_data['polarity_score'] < 0) & (clean_data['polarity_score'] > -0.6)].index,\n",
        "                 ['label_polarity']] = 'negative'\n",
        "        array_polarity_score = np.unique(polarity_score_list, return_counts=True)\n",
        "        neighborhood_df = clean_data[['polarity_score', 'neighbourhood']].groupby(['neighbourhood']).agg(['mean', 'count'])\n",
        "        neighborhood_df.columns = neighborhood_df.columns.droplevel(0)\n",
        "        print('Finished the polarity analysis')\n",
        "        return array_polarity_score, neighborhood_df, output_data\n",
        "  \n",
        "    def steam_word(self,data):\n",
        "      #data.dropna(subset=['comments'], axis=0, inplace=True)\n",
        "      data['comments']=data['comments'].apply(str)\n",
        "      porter = PorterStemmer()\n",
        "      data.loc[:, 'comments'] = data['comments'].apply(\n",
        "          lambda x: ' '.join([porter.stem(word) for word in word_tokenize(x)]))\n",
        "      return data"
      ],
      "execution_count": 0,
      "outputs": []
    },
    {
      "cell_type": "markdown",
      "metadata": {
        "id": "Z91T9YefVb0U",
        "colab_type": "text"
      },
      "source": [
        "The GetTopic class infers the topic of a text"
      ]
    },
    {
      "cell_type": "code",
      "metadata": {
        "id": "QFnQ3mpDHFUW",
        "colab_type": "code",
        "colab": {}
      },
      "source": [
        "class GetTopic():\n",
        "    def __init__(self, data_without_stop_word):\n",
        "        self.n_topics = 4\n",
        "        self.num_words_topic = 25\n",
        "        self.df = data_without_stop_word\n",
        "        self.df.dropna(subset=['comments'], axis=0, inplace=True)\n",
        "        self.num_rows = self.df['comments'].size\n",
        "\n",
        "    def execute_lda_model(self):\n",
        "        from sklearn.decomposition import LatentDirichletAllocation\n",
        "        from sklearn.feature_extraction.text import CountVectorizer\n",
        "        # the vectorizer object will be used to transform text to vector form\n",
        "        vectorizer = CountVectorizer(max_df=0.9, min_df=25, token_pattern='\\w+|\\$[\\d\\.]+|\\S+')\n",
        "        # apply transformation\n",
        "        tf = vectorizer.fit_transform(self.df['comments'])\n",
        "        # tf_feature_names tells us what word each column in the matric represents\n",
        "        tf_feature_names = vectorizer.get_feature_names()\n",
        "        number_of_topics = self.n_topics\n",
        "        model = LatentDirichletAllocation(batch_size=128,\n",
        "                        n_components=number_of_topics, learning_method='online',\n",
        "                       random_state=0).fit(tf)\n",
        "        print('Finished the extract topic step')\n",
        "        return tf_feature_names, model, self.n_topics\n",
        "        #self.display_topics(model, tf_feature_names)\n",
        "\n",
        "    def display_topics(self, model, feature_names):\n",
        "        no_top_words = self.num_words_topic\n",
        "        ntopics = self.n_topics\n",
        "        topic_dict = {}\n",
        "        for topic_idx, topic in enumerate(model.components_):\n",
        "            topic_dict[\"Topic %d words\" % (topic_idx)] = ['{}'.format(feature_names[i])\n",
        "                                                          for i in topic.argsort()[:-no_top_words - 1:-1]]\n",
        "            topic_dict[\"Topic %d weights\" % (topic_idx)] = ['{:.1f}'.format(topic[i])\n",
        "                                                            for i in topic.argsort()[:-no_top_words - 1:-1]]\n",
        "     "
      ],
      "execution_count": 0,
      "outputs": []
    },
    {
      "cell_type": "markdown",
      "metadata": {
        "id": "ImS5vdpjVDoy",
        "colab_type": "text"
      },
      "source": [
        "The PlotModel class contains all methods that plot results"
      ]
    },
    {
      "cell_type": "code",
      "metadata": {
        "id": "n71Zi6xIBPoD",
        "colab_type": "code",
        "colab": {}
      },
      "source": [
        "class PlotModel():\n",
        "    def __init__(self):\n",
        "        pass\n",
        "\n",
        "    def review_polarity_level(self, data):\n",
        "        plt.figure(figsize=(8, 4))\n",
        "        ax = data['label_polarity'].value_counts().plot(kind='bar',color=\"indianred\")\n",
        "        ax.set_xlabel(\"polarity level\", fontsize=12)\n",
        "        ax.set_ylabel(\"count\", fontsize=12)\n",
        "        plt.show()\n",
        "\n",
        "    def review_polarity(self, array_polarity_score):\n",
        "        plt.figure(figsize=(8, 4))\n",
        "        ax = sns.barplot(array_polarity_score[0], array_polarity_score[1], color=\"salmon\", saturation=.5, label='Boston')\n",
        "        ax.set_xlabel('Airbnb review', fontsize=14)\n",
        "        ax.set_ylabel('Number of reviews', fontsize=14)\n",
        "        plt.show()\n",
        "\n",
        "\n",
        "    def review_neighborhood(self, neighborhood_df):\n",
        "        ax = neighborhood_df[['mean']].plot.bar(figsize=(10, 6), legend=False, fontsize=6)\n",
        "        ax.set_xlabel(\"Neighbourhood\", fontsize=10)\n",
        "        ax.set_ylabel(\"Average polarity score\", fontsize=10)\n",
        "        plt.show()\n",
        "        ax = neighborhood_df[['count']].plot.bar(figsize=(10, 6), legend=False, fontsize=6)\n",
        "        ax.set_xlabel(\"Neighbourhood\", fontsize=10)\n",
        "        ax.set_ylabel(\"Number of review\", fontsize=10)\n",
        "        plt.show()\n",
        "\n",
        "    def show_topic_classification(self, feature_names, model,ntopics):\n",
        "        fig = plt.figure()\n",
        "        fig.subplots_adjust(hspace=0.4, wspace=0.4)\n",
        "        for j in range(0, ntopics):\n",
        "            topic = model.components_[j]\n",
        "            topic_words = [feature_names[i] for i in topic.argsort()[:-25 - 1:-1]]\n",
        "            topic_cloud = WordCloud(\n",
        "                stopwords=STOPWORDS,\n",
        "                background_color='black',\n",
        "                width=4000,\n",
        "                height=2800\n",
        "            ).generate(\" \".join(topic_words))\n",
        "            ax = fig.add_subplot(2,2, j+1)\n",
        "            ax.imshow(topic_cloud)\n",
        "            ax.axis('off')\n",
        "        plt.show()\n",
        "\n",
        "    def show_topics(self, lda):\n",
        "        plt.figure(figsize=(8, 6))\n",
        "        num_col = 3\n",
        "        num_row = 5\n",
        "        for i in range(15):\n",
        "            df = pd.DataFrame(lda.show_topic(i), columns=['term', 'prob']).set_index('term')\n",
        "            plt.subplot(num_row, num_col, i + 1)\n",
        "            ax = sns.barplot(x='prob', y=df.index, data=df, palette='Blues')\n",
        "            ax.set_title('topic ' + str(i), fontdict={'fontsize': 8, 'fontweight': 'medium'})\n",
        "            ax.set_xlabel('probability', fontsize=8)\n",
        "            ax.set_ylabel('term', fontsize=8)\n",
        "            ax.tick_params(axis=\"y\", labelsize=8)\n",
        "            ax.tick_params(axis=\"x\", labelsize=8)\n",
        "        plt.show()"
      ],
      "execution_count": 0,
      "outputs": []
    },
    {
      "cell_type": "code",
      "metadata": {
        "id": "sYu-5EvdA7fQ",
        "colab_type": "code",
        "colab": {
          "base_uri": "https://localhost:8080/",
          "height": 35
        },
        "outputId": "d5a9d3fe-a975-4444-8fce-8889be9508e8"
      },
      "source": [
        "analysis_obj = AnalysisData()\n",
        "array_polarity, neigh_df, output_data = analysis_obj.score_sentimental(clean_data)\n"
      ],
      "execution_count": 162,
      "outputs": [
        {
          "output_type": "stream",
          "text": [
            "Finished the polarity analysis\n"
          ],
          "name": "stdout"
        }
      ]
    },
    {
      "cell_type": "markdown",
      "metadata": {
        "id": "dbAcztfQLH9Y",
        "colab_type": "text"
      },
      "source": [
        "Was created an instance of the PlotModel class where we can access the class methods review_polarity, review_neighborhood and show_topic_classification."
      ]
    },
    {
      "cell_type": "code",
      "metadata": {
        "id": "WVsEB5hYGHAM",
        "colab_type": "code",
        "colab": {
          "base_uri": "https://localhost:8080/",
          "height": 611
        },
        "outputId": "50f339d6-277d-41ba-9cbf-f0411c22b411"
      },
      "source": [
        "handle_plot = PlotModel()\n",
        "handle_plot.review_polarity(array_polarity)\n",
        "handle_plot.review_polarity_level(output_data)"
      ],
      "execution_count": 165,
      "outputs": [
        {
          "output_type": "display_data",
          "data": {
            "image/png": "[encoded data removed]",
            "text/plain": [
              "<Figure size 576x288 with 1 Axes>"
            ]
          },
          "metadata": {
            "tags": []
          }
        },
        {
          "output_type": "display_data",
          "data": {
            "image/png": "[encoded data removed]",
            "text/plain": [
              "<Figure size 576x288 with 1 Axes>"
            ]
          },
          "metadata": {
            "tags": []
          }
        }
      ]
    },
    {
      "cell_type": "code",
      "metadata": {
        "id": "U7PoknnCNY-M",
        "colab_type": "code",
        "colab": {
          "base_uri": "https://localhost:8080/",
          "height": 933
        },
        "outputId": "aa60081d-fa74-45dc-e4fa-2c2646be49f2"
      },
      "source": [
        "handle_plot.review_neighborhood(neigh_df)"
      ],
      "execution_count": 171,
      "outputs": [
        {
          "output_type": "display_data",
          "data": {
            "image/png": "[encoded data removed]",
            "text/plain": [
              "<Figure size 720x432 with 1 Axes>"
            ]
          },
          "metadata": {
            "tags": []
          }
        },
        {
          "output_type": "display_data",
          "data": {
            "image/png": "[encoded data removed]",
            "text/plain": [
              "<Figure size 720x432 with 1 Axes>"
            ]
          },
          "metadata": {
            "tags": []
          }
        }
      ]
    }
  ]
}